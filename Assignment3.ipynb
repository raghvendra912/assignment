{
 "cells": [
  {
   "cell_type": "markdown",
   "metadata": {},
   "source": [
    "# Question1 : Write a Python Program to implement your own myreduce() function which works exactly like Python's built-in function reduce()"
   ]
  },
  {
   "cell_type": "code",
   "execution_count": 2,
   "metadata": {},
   "outputs": [],
   "source": [
    "#function to be passed in the reduce function\n",
    "def func(a,b):\n",
    "    return a+b\n",
    "lis=[1,2,3,4,5]\n"
   ]
  },
  {
   "cell_type": "code",
   "execution_count": 3,
   "metadata": {},
   "outputs": [
    {
     "name": "stdout",
     "output_type": "stream",
     "text": [
      "15\n"
     ]
    }
   ],
   "source": [
    "def myreduce(function,iterable,initializer=None):\n",
    "    it=iter(iterable)\n",
    "    if initializer is None:\n",
    "        value=next(it)\n",
    "    else:\n",
    "        value=initializer\n",
    "    for i in it:\n",
    "        value=function(value,i)\n",
    "    return value\n",
    "print(myreduce(func,lis))\n"
   ]
  },
  {
   "cell_type": "markdown",
   "metadata": {},
   "source": [
    "# Write a Python program to implement your own myfilter() function which works exactly like Python's built-in function filter()"
   ]
  },
  {
   "cell_type": "code",
   "execution_count": 4,
   "metadata": {},
   "outputs": [
    {
     "name": "stdout",
     "output_type": "stream",
     "text": [
      "6\n"
     ]
    }
   ],
   "source": [
    "def func(a):\n",
    "    return a%3==0\n",
    "lis=[1,1,2,4,67,74,6]\n",
    "def myfilter(function,iterable,initializer=None):\n",
    "    it=iter(iterable)\n",
    "    if initializer is None:\n",
    "        value=next(it)\n",
    "    else:\n",
    "        value=initializer\n",
    "    for i in it:\n",
    "        if function(i):\n",
    "            print(i) \n",
    "\n",
    "c=filter(func,lis)\n",
    "for i in c:\n",
    "    print(i)\n"
   ]
  },
  {
   "cell_type": "markdown",
   "metadata": {},
   "source": [
    "# Comprehension statements"
   ]
  },
  {
   "cell_type": "raw",
   "metadata": {},
   "source": [
    "1.['x', 'xx', 'xxx', 'xxxx', 'y', 'yy', 'yyy', 'yyyy', 'z', 'zz', 'zzz', 'zzzz']"
   ]
  },
  {
   "cell_type": "code",
   "execution_count": 5,
   "metadata": {},
   "outputs": [
    {
     "data": {
      "text/plain": [
       "['x', 'xx', 'xxx', 'xxxx', 'y', 'yy', 'yyy', 'yyyy', 'z', 'zz', 'zzz', 'zzzz']"
      ]
     },
     "execution_count": 5,
     "metadata": {},
     "output_type": "execute_result"
    }
   ],
   "source": [
    "ls=['x','y','z']\n",
    "\n",
    "mylist=[x*(i+1)  for x in ls for i in range(4) ]\n",
    "mylist"
   ]
  },
  {
   "cell_type": "raw",
   "metadata": {},
   "source": [
    "2.['x', 'y', 'z', 'xx', 'yy', 'zz', 'xxx', 'yyy', 'zzz', 'xxxx', 'yyyy', 'zzzz']"
   ]
  },
  {
   "cell_type": "code",
   "execution_count": 6,
   "metadata": {},
   "outputs": [
    {
     "data": {
      "text/plain": [
       "['x', 'y', 'z', 'xx', 'yy', 'zz', 'xxx', 'yyy', 'zzz', 'xxxx', 'yyyy', 'zzzz']"
      ]
     },
     "execution_count": 6,
     "metadata": {},
     "output_type": "execute_result"
    }
   ],
   "source": [
    "mylist=[x*(i+1) for i in range(4) for x in ls ]\n",
    "mylist"
   ]
  },
  {
   "cell_type": "raw",
   "metadata": {},
   "source": [
    "3.[[2], [3], [4], [3], [4], [5], [4], [5], [6]] "
   ]
  },
  {
   "cell_type": "code",
   "execution_count": 7,
   "metadata": {},
   "outputs": [
    {
     "data": {
      "text/plain": [
       "[[2], [3], [4], [3], [4], [5], [4], [5], [6]]"
      ]
     },
     "execution_count": 7,
     "metadata": {},
     "output_type": "execute_result"
    }
   ],
   "source": [
    "ll=[2,3,4,5,6]\n",
    "klist=[[ll[j]]  for i in range(len(ll)-2) for j in range(i,i+3) ]\n",
    "klist"
   ]
  },
  {
   "cell_type": "raw",
   "metadata": {},
   "source": [
    "4.[[2, 3, 4, 5], [3, 4, 5, 6],[4, 5, 6, 7], [5, 6, 7, 8]]"
   ]
  },
  {
   "cell_type": "code",
   "execution_count": 8,
   "metadata": {},
   "outputs": [
    {
     "data": {
      "text/plain": [
       "[[2, 3, 4, 5], [3, 4, 5, 6], [4, 5, 6, 7], [5, 6, 7, 8]]"
      ]
     },
     "execution_count": 8,
     "metadata": {},
     "output_type": "execute_result"
    }
   ],
   "source": [
    "ll=[2,3,4,5,6,7,8]\n",
    "klist=[[ll[j],ll[j+1],ll[j+2],ll[j+3]]  for j in range(len(ll)-3)  ]\n",
    "klist"
   ]
  },
  {
   "cell_type": "raw",
   "metadata": {},
   "source": [
    "5.[(1, 1), (2, 1), (3, 1), (1, 2), (2, 2), (3, 2), (1, 3), (2, 3), (3, 3)]"
   ]
  },
  {
   "cell_type": "code",
   "execution_count": 9,
   "metadata": {},
   "outputs": [
    {
     "data": {
      "text/plain": [
       "[(1, 1), (2, 1), (3, 1), (1, 2), (2, 2), (3, 2), (1, 3), (2, 3), (3, 3)]"
      ]
     },
     "execution_count": 9,
     "metadata": {},
     "output_type": "execute_result"
    }
   ],
   "source": [
    "ll=[1,2,3]\n",
    "mylist=[(ll[j],ll[i]) for i in range(3) for j in range(3)]\n",
    "mylist"
   ]
  }
 ],
 "metadata": {
  "kernelspec": {
   "display_name": "Python 3",
   "language": "python",
   "name": "python3"
  }
 },
 "nbformat": 4,
 "nbformat_minor": 4
}
