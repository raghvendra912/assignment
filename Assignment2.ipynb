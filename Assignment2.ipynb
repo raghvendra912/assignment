{
 "cells": [
  {
   "cell_type": "markdown",
   "metadata": {},
   "source": [
    "# Assignment2"
   ]
  },
  {
   "cell_type": "raw",
   "metadata": {},
   "source": [
    "1. Create the below pattern using nested for loop in Python.\n",
    "*\n",
    "**\n",
    "***\n",
    "****\n",
    "***\n",
    "**\n",
    "*"
   ]
  },
  {
   "cell_type": "code",
   "execution_count": 40,
   "metadata": {},
   "outputs": [
    {
     "name": "stdout",
     "output_type": "stream",
     "text": [
      "*\n",
      "**\n",
      "***\n",
      "****\n",
      "*****\n",
      "******\n",
      "*******\n",
      "********\n",
      "*******\n",
      "******\n",
      "*****\n",
      "****\n",
      "***\n",
      "**\n",
      "*\n"
     ]
    }
   ],
   "source": [
    "def print_star(num):\n",
    "    for i in range(1,num+1):\n",
    "        if(i>num/2):\n",
    "            k=num-i+1\n",
    "        else:\n",
    "            k=i\n",
    "        for j in range(1,k+1):\n",
    "            print(\"*\",end=\"\")\n",
    "        print(\"\")\n",
    "            \n",
    "print_star(15)"
   ]
  },
  {
   "cell_type": "markdown",
   "metadata": {},
   "source": [
    "2. Write a Python program to reverse a word after accepting the input from the user.\n",
    "Input word: ineuron\n",
    "Output word : noruei"
   ]
  },
  {
   "cell_type": "code",
   "execution_count": 69,
   "metadata": {},
   "outputs": [
    {
     "name": "stdout",
     "output_type": "stream",
     "text": [
      "norueni\n",
      "norueni\n"
     ]
    }
   ],
   "source": [
    "def reverse_word(word):\n",
    "    l=len(word)\n",
    "    rev_word=''\n",
    "    for j in range(l-1,-1,-1):\n",
    "        #printing on screen\n",
    "        print(word[j],end=\"\")\n",
    "        #assigning to variable\n",
    "        rev_word=rev_word+word[j]\n",
    "    print (\"\\n\"+rev_word)\n",
    "reverse_word('ineuron')"
   ]
  }
 ],
 "metadata": {
  "kernelspec": {
   "display_name": "Python 3",
   "language": "python",
   "name": "python3"
  },
  "language_info": {
   "codemirror_mode": {
    "name": "ipython",
    "version": 3
   },
   "file_extension": ".py",
   "mimetype": "text/x-python",
   "name": "python",
   "nbconvert_exporter": "python",
   "pygments_lexer": "ipython3",
   "version": "3.8.5"
  }
 },
 "nbformat": 4,
 "nbformat_minor": 2
}
