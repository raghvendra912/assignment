{
 "cells": [
  {
   "cell_type": "markdown",
   "metadata": {},
   "source": [
    "1.1 Write a Python Program(with class concepts) to find the area of the triangle using the below\n",
    "formula.\n",
    "area = (s*(s-a)*(s-b)*(s-c)) ** 0.5\n",
    "Function to take the length of the sides of triangle from user should be defined in the parent\n",
    "class and function to calculate the area should be defined in subclass."
   ]
  },
  {
   "cell_type": "code",
   "execution_count": 67,
   "metadata": {},
   "outputs": [
    {
     "name": "stdout",
     "output_type": "stream",
     "text": [
      "inside child class\n",
      "Enter the three sides of triangle\n",
      "enter first side : 5\n",
      "enter second side : 6\n",
      "enter third side : 4\n",
      "Area of triangle =  9.921567416492215\n",
      "Area of the tringle with sides 5 6 4 =  9.921567416492215\n"
     ]
    }
   ],
   "source": [
    "class triangle_area:\n",
    "    def __init__(self):\n",
    "        print(\"inside base class\")\n",
    "    def takeinput(self):\n",
    "        print('Enter the three sides of triangle')\n",
    "        self.a=int(input(\"enter first side : \"))\n",
    "        self.b=int(input(\"enter second side : \"))\n",
    "        self.c=int(input(\"enter third side : \"))\n",
    "class area(triangle_area):\n",
    "    def __init__(self):\n",
    "        print(\"inside child class\")\n",
    "    def area(self):\n",
    "        triangle_area.takeinput(self)\n",
    "        a=self.a\n",
    "        b=self.b\n",
    "        c=self.c\n",
    "        s=(a+b+c)/2\n",
    "        area = (s*(s-a)*(s-b)*(s-c)) ** 0.5\n",
    "        print(\"Area of triangle = \",area)\n",
    "        return area\n",
    "a=area()\n",
    "c=a.area()\n",
    "print(\"Area of the tringle with sides {} {} {} = \".format(a.a,a.b,a.c),c)"
   ]
  },
  {
   "cell_type": "markdown",
   "metadata": {},
   "source": [
    "1.2 Write a function filter_long_words() that takes a list of words and an integer n and returns\n",
    "the list of words that are longer than n."
   ]
  },
  {
   "cell_type": "code",
   "execution_count": 69,
   "metadata": {},
   "outputs": [
    {
     "data": {
      "text/plain": [
       "['abc', 'abcd', 'abcde']"
      ]
     },
     "execution_count": 69,
     "metadata": {},
     "output_type": "execute_result"
    }
   ],
   "source": [
    "def filter_long_words(sentence,n):\n",
    "    long_word=[]\n",
    "    for word in sentence:\n",
    "        if len(word)>n:\n",
    "            long_word.append(word)\n",
    "\n",
    "    return(long_word)\n",
    "\n",
    "filter_long_words([\"abc\",\"abcd\",\"abcde\",\"a\"],2)    "
   ]
  },
  {
   "cell_type": "markdown",
   "metadata": {},
   "source": [
    "2.1 Write a Python program using function concept that maps list of words into a list of integers\n",
    "representing the lengths of the corresponding words.\n",
    "Hint: If a list [ ab,cde,erty] is passed on to the python function output should come as [2,3,4]\n",
    "Here 2,3 and 4 are the lengths of the words in the list."
   ]
  },
  {
   "cell_type": "code",
   "execution_count": 70,
   "metadata": {},
   "outputs": [
    {
     "data": {
      "text/plain": [
       "[5, 2, 4, 7]"
      ]
     },
     "execution_count": 70,
     "metadata": {},
     "output_type": "execute_result"
    }
   ],
   "source": [
    "def map_length(word_list):\n",
    "    length=[]\n",
    "    for word in word_list:\n",
    "        length.append(len(word))\n",
    "    return length\n",
    "map_length([\"sdasd\",\"da\",\"dsda\",\"dasdasd\"])"
   ]
  },
  {
   "cell_type": "markdown",
   "metadata": {},
   "source": [
    "2.2 Write a Python function which takes a character (i.e. a string of length 1) and returns True if\n",
    "it is a vowel, False otherwise."
   ]
  },
  {
   "cell_type": "code",
   "execution_count": 74,
   "metadata": {},
   "outputs": [
    {
     "data": {
      "text/plain": [
       "True"
      ]
     },
     "execution_count": 74,
     "metadata": {},
     "output_type": "execute_result"
    }
   ],
   "source": [
    "def check_vowel(char):\n",
    "    vowel=\"aeiouAEIOU\"\n",
    "    if char in vowel:\n",
    "        return True\n",
    "    else:\n",
    "        return False\n",
    "check_vowel('A')"
   ]
  }
 ],
 "metadata": {
  "kernelspec": {
   "display_name": "Python 3",
   "language": "python",
   "name": "python3"
  },
  "language_info": {
   "codemirror_mode": {
    "name": "ipython",
    "version": 3
   },
   "file_extension": ".py",
   "mimetype": "text/x-python",
   "name": "python",
   "nbconvert_exporter": "python",
   "pygments_lexer": "ipython3",
   "version": "3.8.5"
  }
 },
 "nbformat": 4,
 "nbformat_minor": 4
}
